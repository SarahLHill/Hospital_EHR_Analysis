{
 "cells": [
  {
   "cell_type": "code",
   "execution_count": 77,
   "id": "7596cdb7",
   "metadata": {},
   "outputs": [],
   "source": [
    "import pandas as pd\n",
    "import numpy as np\n"
   ]
  },
  {
   "cell_type": "markdown",
   "id": "bd53a117",
   "metadata": {},
   "source": [
    "# Import Data"
   ]
  },
  {
   "cell_type": "code",
   "execution_count": 78,
   "id": "9a15ab18",
   "metadata": {},
   "outputs": [],
   "source": [
    "breach_df = pd.read_csv('data/breach.csv')\n",
    "\n",
    "df = breach_df"
   ]
  },
  {
   "cell_type": "markdown",
   "id": "7548dc4a",
   "metadata": {},
   "source": [
    "# Initial Exploration"
   ]
  },
  {
   "cell_type": "code",
   "execution_count": 79,
   "id": "de13113a",
   "metadata": {},
   "outputs": [
    {
     "name": "stdout",
     "output_type": "stream",
     "text": [
      "                          Name of Covered Entity State  Covered Entity Type  \\\n",
      "0                         Langdon Prairie Health    ND  Healthcare Provider   \n",
      "1              Highland Rivers Behavioral Health    GA  Healthcare Provider   \n",
      "2                 Charleston Area Medical Center    WV  Healthcare Provider   \n",
      "3                      Insurance ACE/Humana Inc.    KY          Health Plan   \n",
      "4  Infosys Public Services, Inc. (â€œInfosysâ€)    MD   Business Associate   \n",
      "\n",
      "   Individuals Affected Breach Submission Date  \\\n",
      "0                1152.0              4/18/2025   \n",
      "1                2253.0              4/15/2025   \n",
      "2               67413.0              2/14/2025   \n",
      "3                8553.0               2/6/2025   \n",
      "4                2985.0              1/31/2025   \n",
      "\n",
      "                   Type of Breach Location of Breached Information  \n",
      "0  Unauthorized Access/Disclosure                            Email  \n",
      "1             Hacking/IT Incident                   Network Server  \n",
      "2             Hacking/IT Incident                            Email  \n",
      "3  Unauthorized Access/Disclosure                      Paper/Films  \n",
      "4  Unauthorized Access/Disclosure                   Network Server  \n",
      "Index(['Name of Covered Entity', 'State', 'Covered Entity Type',\n",
      "       'Individuals Affected', 'Breach Submission Date', 'Type of Breach',\n",
      "       'Location of Breached Information'],\n",
      "      dtype='object')\n",
      "(6945, 7)\n",
      "<class 'pandas.core.frame.DataFrame'>\n",
      "RangeIndex: 6945 entries, 0 to 6944\n",
      "Data columns (total 7 columns):\n",
      " #   Column                            Non-Null Count  Dtype  \n",
      "---  ------                            --------------  -----  \n",
      " 0   Name of Covered Entity            6945 non-null   object \n",
      " 1   State                             6920 non-null   object \n",
      " 2   Covered Entity Type               6940 non-null   object \n",
      " 3   Individuals Affected              6944 non-null   float64\n",
      " 4   Breach Submission Date            6945 non-null   object \n",
      " 5   Type of Breach                    6944 non-null   object \n",
      " 6   Location of Breached Information  6945 non-null   object \n",
      "dtypes: float64(1), object(6)\n",
      "memory usage: 379.9+ KB\n",
      "None\n",
      "       Individuals Affected\n",
      "count          6.944000e+03\n",
      "mean           8.917930e+04\n",
      "std            1.059768e+06\n",
      "min            5.000000e+02\n",
      "25%            1.213500e+03\n",
      "50%            3.566500e+03\n",
      "75%            1.663475e+04\n",
      "max            7.880000e+07\n",
      "Name of Covered Entity               0\n",
      "State                               25\n",
      "Covered Entity Type                  5\n",
      "Individuals Affected                 1\n",
      "Breach Submission Date               0\n",
      "Type of Breach                       1\n",
      "Location of Breached Information     0\n",
      "dtype: int64\n"
     ]
    }
   ],
   "source": [
    "print (df.head())\n",
    "print (df.columns)\n",
    "print (df.shape)\n",
    "print (df.info())\n",
    "print (df.describe())\n",
    "print (df.isnull().sum())"
   ]
  },
  {
   "cell_type": "markdown",
   "id": "9458bc9e",
   "metadata": {},
   "source": [
    "# Cleaning the data"
   ]
  },
  {
   "cell_type": "code",
   "execution_count": 80,
   "id": "098e0723",
   "metadata": {},
   "outputs": [],
   "source": [
    "def clean_breach_data(df: pd.DataFrame) -> pd.DataFrame:\n",
    "    \"\"\"\n",
    "    Cleans the breach data by standardizing column names.\n",
    "        \n",
    "    Args:\n",
    "        df (pd.DataFrame): The breach data.\n",
    "        \n",
    "    Returns:\n",
    "        pd.DataFrame: Cleaned breach data.\n",
    "    \"\"\"\n",
    "    # Standardize column names\n",
    "    df.columns = df.columns.str.lower().str.replace(' ', '_').str.replace('-', '_')\n",
    "\n",
    "\n",
    "    return df"
   ]
  },
  {
   "cell_type": "code",
   "execution_count": 81,
   "id": "ea62e9a0",
   "metadata": {},
   "outputs": [
    {
     "name": "stdout",
     "output_type": "stream",
     "text": [
      "                                 name_of_covered_entity state  \\\n",
      "0                                Langdon Prairie Health    ND   \n",
      "1                     Highland Rivers Behavioral Health    GA   \n",
      "2                        Charleston Area Medical Center    WV   \n",
      "3                             Insurance ACE/Humana Inc.    KY   \n",
      "4         Infosys Public Services, Inc. (â€œInfosysâ€)    MD   \n",
      "...                                                 ...   ...   \n",
      "6940                                  Mark D. Lurie, MD    CA   \n",
      "6941  Health Services for Children with Special Need...    DC   \n",
      "6942    Alaska Department of Health and Social Services    AK   \n",
      "6943          Mid America Kidney Stone Association, LLC    MO   \n",
      "6944                         Brooke Army Medical Center    TX   \n",
      "\n",
      "      covered_entity_type  individuals_affected breach_submission_date  \\\n",
      "0     Healthcare Provider                1152.0              4/18/2025   \n",
      "1     Healthcare Provider                2253.0              4/15/2025   \n",
      "2     Healthcare Provider               67413.0              2/14/2025   \n",
      "3             Health Plan                8553.0               2/6/2025   \n",
      "4      Business Associate                2985.0              1/31/2025   \n",
      "...                   ...                   ...                    ...   \n",
      "6940  Healthcare Provider                5166.0             11/20/2009   \n",
      "6941          Health Plan                3800.0             11/17/2009   \n",
      "6942  Healthcare Provider                 501.0             10/30/2009   \n",
      "6943  Healthcare Provider                1000.0             10/28/2009   \n",
      "6944  Healthcare Provider                1000.0             10/21/2009   \n",
      "\n",
      "                      type_of_breach         location_of_breached_information  \n",
      "0     Unauthorized Access/Disclosure                                    Email  \n",
      "1                Hacking/IT Incident                           Network Server  \n",
      "2                Hacking/IT Incident                                    Email  \n",
      "3     Unauthorized Access/Disclosure                              Paper/Films  \n",
      "4     Unauthorized Access/Disclosure                           Network Server  \n",
      "...                              ...                                      ...  \n",
      "6940                           Theft                         Desktop Computer  \n",
      "6941                            Loss                                   Laptop  \n",
      "6942                           Theft  Other, Other Portable Electronic Device  \n",
      "6943                           Theft                           Network Server  \n",
      "6944                           Theft                              Paper/Films  \n",
      "\n",
      "[6945 rows x 7 columns]\n"
     ]
    }
   ],
   "source": [
    "print(clean_breach_data(df))\n"
   ]
  },
  {
   "cell_type": "code",
   "execution_count": 82,
   "id": "9cdcfa35",
   "metadata": {},
   "outputs": [
    {
     "name": "stdout",
     "output_type": "stream",
     "text": [
      "Cleaned data saved to 'data/breach_cleaned.csv'\n"
     ]
    }
   ],
   "source": [
    "#save the cleaned DataFrame to a new CSV file\n",
    "df.to_csv('data/breach_cleaned.csv', index=False)\n",
    "print(\"Cleaned data saved to 'data/breach_cleaned.csv'\")"
   ]
  }
 ],
 "metadata": {
  "kernelspec": {
   "display_name": "Python 3",
   "language": "python",
   "name": "python3"
  },
  "language_info": {
   "codemirror_mode": {
    "name": "ipython",
    "version": 3
   },
   "file_extension": ".py",
   "mimetype": "text/x-python",
   "name": "python",
   "nbconvert_exporter": "python",
   "pygments_lexer": "ipython3",
   "version": "3.13.2"
  }
 },
 "nbformat": 4,
 "nbformat_minor": 5
}
