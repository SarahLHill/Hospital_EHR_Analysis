{
 "cells": [
  {
   "cell_type": "code",
   "execution_count": 15,
   "id": "a3972555",
   "metadata": {},
   "outputs": [],
   "source": [
    "import pandas as pd\n",
    "import numpy as np"
   ]
  },
  {
   "cell_type": "markdown",
   "id": "cc1535cf",
   "metadata": {},
   "source": [
    "# Import Data"
   ]
  },
  {
   "cell_type": "code",
   "execution_count": 16,
   "id": "0f3d15ba",
   "metadata": {},
   "outputs": [],
   "source": [
    "interoperability_df = pd.read_csv('data/interoperability.csv')\n",
    "\n",
    "df = interoperability_df"
   ]
  },
  {
   "cell_type": "markdown",
   "id": "c7508016",
   "metadata": {},
   "source": [
    "# Initial Exploration"
   ]
  },
  {
   "cell_type": "code",
   "execution_count": 17,
   "id": "e45446f8",
   "metadata": {},
   "outputs": [
    {
     "name": "stdout",
     "output_type": "stream",
     "text": [
      "   Facility ID                    Facility Name                     Address  \\\n",
      "0        10001  SOUTHEAST HEALTH MEDICAL CENTER      1108 ROSS CLARK CIRCLE   \n",
      "1        10005         MARSHALL MEDICAL CENTERS  2505 U S HIGHWAY 431 NORTH   \n",
      "2        10006     NORTH ALABAMA MEDICAL CENTER         1701 VETERANS DRIVE   \n",
      "3        10007         MIZELL MEMORIAL HOSPITAL               702 N MAIN ST   \n",
      "4        10008      CRENSHAW COMMUNITY HOSPITAL         101 HOSPITAL CIRCLE   \n",
      "\n",
      "  City/Town State  ZIP Code County/Parish Telephone Number         CEHRT ID  \\\n",
      "0    DOTHAN    AL     36301       HOUSTON   (334) 793-8701  0015CAN28DKT47C   \n",
      "1      BOAZ    AL     35957      MARSHALL   (256) 593-8310  0015C0HAX4ESQ0D   \n",
      "2  FLORENCE    AL     35630    LAUDERDALE   (256) 768-8400  0015CW76TRC3SVN   \n",
      "3       OPP    AL     36467     COVINGTON   (334) 493-3541  0015CFG3Q10HY2V   \n",
      "4   LUVERNE    AL     36049      CRENSHAW   (334) 335-3374  0015CFG3Q10HY2V   \n",
      "\n",
      "  Meets criteria for promoting interoperability of EHRs Start Date    End Date  \n",
      "0                                                  Y      1/1/2023  12/31/2023  \n",
      "1                                                  Y      1/1/2023  12/31/2023  \n",
      "2                                                  Y      1/1/2023  12/31/2023  \n",
      "3                                                  Y      1/1/2023  12/31/2023  \n",
      "4                                                  Y      1/1/2023  12/31/2023  \n",
      "Index(['Facility ID', 'Facility Name', 'Address', 'City/Town', 'State',\n",
      "       'ZIP Code', 'County/Parish', 'Telephone Number', 'CEHRT ID',\n",
      "       'Meets criteria for promoting interoperability of EHRs', 'Start Date',\n",
      "       'End Date'],\n",
      "      dtype='object')\n",
      "(4593, 12)\n",
      "<class 'pandas.core.frame.DataFrame'>\n",
      "RangeIndex: 4593 entries, 0 to 4592\n",
      "Data columns (total 12 columns):\n",
      " #   Column                                                 Non-Null Count  Dtype \n",
      "---  ------                                                 --------------  ----- \n",
      " 0   Facility ID                                            4593 non-null   int64 \n",
      " 1   Facility Name                                          4593 non-null   object\n",
      " 2   Address                                                4593 non-null   object\n",
      " 3   City/Town                                              4593 non-null   object\n",
      " 4   State                                                  4593 non-null   object\n",
      " 5   ZIP Code                                               4593 non-null   int64 \n",
      " 6   County/Parish                                          4593 non-null   object\n",
      " 7   Telephone Number                                       4593 non-null   object\n",
      " 8   CEHRT ID                                               4046 non-null   object\n",
      " 9   Meets criteria for promoting interoperability of EHRs  3866 non-null   object\n",
      " 10  Start Date                                             4593 non-null   object\n",
      " 11  End Date                                               4593 non-null   object\n",
      "dtypes: int64(2), object(10)\n",
      "memory usage: 430.7+ KB\n",
      "None\n",
      "         Facility ID      ZIP Code\n",
      "count    4593.000000   4593.000000\n",
      "mean   267573.402351  54239.873939\n",
      "std    158634.709389  26924.420946\n",
      "min     10001.000000    603.000000\n",
      "25%    140145.000000  33143.000000\n",
      "50%    260005.000000  55805.000000\n",
      "75%    390258.000000  76208.000000\n",
      "max    671301.000000  99929.000000\n",
      "Facility ID                                                0\n",
      "Facility Name                                              0\n",
      "Address                                                    0\n",
      "City/Town                                                  0\n",
      "State                                                      0\n",
      "ZIP Code                                                   0\n",
      "County/Parish                                              0\n",
      "Telephone Number                                           0\n",
      "CEHRT ID                                                 547\n",
      "Meets criteria for promoting interoperability of EHRs    727\n",
      "Start Date                                                 0\n",
      "End Date                                                   0\n",
      "dtype: int64\n"
     ]
    }
   ],
   "source": [
    "print (df.head())\n",
    "print (df.columns)\n",
    "print (df.shape)\n",
    "print (df.info())\n",
    "print (df.describe())\n",
    "print (df.isnull().sum())"
   ]
  },
  {
   "cell_type": "markdown",
   "id": "e43eb2d3",
   "metadata": {},
   "source": [
    "# Cleaning the data"
   ]
  },
  {
   "cell_type": "code",
   "execution_count": 18,
   "id": "0477d58a",
   "metadata": {},
   "outputs": [],
   "source": [
    "# Standardize column names\n",
    "df.columns = df.columns.str.lower().str.replace(' ', '_').str.replace('-', '_')"
   ]
  },
  {
   "cell_type": "code",
   "execution_count": 19,
   "id": "a951f115",
   "metadata": {},
   "outputs": [],
   "source": [
    "def clean_interoperability(df):\n",
    "    \"\"\"\n",
    "    Cleans the hospital interoperability data by standardizing column names,\n",
    "    dropping unnecessary columns, converting data types, and handling missing values.\n",
    "    \"\"\"\n",
    " \n",
    "    # Drop unnecessary columns\n",
    "    cols_to_drop = ['address', 'city/town', 'state', 'zip_code', 'county/parish', 'telephone_number', 'start_date', 'end_date']\n",
    "\n",
    "    df.drop(columns=cols_to_drop, inplace=True, errors='ignore')\n",
    "\n",
    "        \n",
    "    #fill NaN or missing values in 'meets_criteria_for_promoting_interoperability_of_ehrs' with No\n",
    "    if 'meets_criteria_for_promoting_interoperability_of_ehrs' in df.columns:\n",
    "        df['meets_criteria_for_promoting_interoperability_of_ehrs'].fillna('No', inplace=True)\n",
    "    # Convert 'meets_criteria_for_promoting_interoperability_of_ehrs' to categorical\n",
    "    if 'meets_criteria_for_promoting_interoperability_of_ehrs' in df.columns:\n",
    "        df['meets_criteria_for_promoting_interoperability_of_ehrs'] = df['meets_criteria_for_promoting_interoperability_of_ehrs'].astype('category')\n",
    "        \n",
    "   \n",
    "    #convert zip_code to string\n",
    "    if 'zip_code' in df.columns:\n",
    "        df['zip_code'] = df['zip_code'].astype(str)\n",
    "        \n",
    "    return df\n",
    "    "
   ]
  },
  {
   "cell_type": "code",
   "execution_count": 20,
   "id": "a3f35ea4",
   "metadata": {},
   "outputs": [
    {
     "name": "stdout",
     "output_type": "stream",
     "text": [
      "   facility_id                    facility_name         cehrt_id  \\\n",
      "0        10001  SOUTHEAST HEALTH MEDICAL CENTER  0015CAN28DKT47C   \n",
      "1        10005         MARSHALL MEDICAL CENTERS  0015C0HAX4ESQ0D   \n",
      "2        10006     NORTH ALABAMA MEDICAL CENTER  0015CW76TRC3SVN   \n",
      "3        10007         MIZELL MEMORIAL HOSPITAL  0015CFG3Q10HY2V   \n",
      "4        10008      CRENSHAW COMMUNITY HOSPITAL  0015CFG3Q10HY2V   \n",
      "\n",
      "  meets_criteria_for_promoting_interoperability_of_ehrs  \n",
      "0                                                  Y     \n",
      "1                                                  Y     \n",
      "2                                                  Y     \n",
      "3                                                  Y     \n",
      "4                                                  Y     \n"
     ]
    },
    {
     "name": "stderr",
     "output_type": "stream",
     "text": [
      "C:\\Windows\\Temp\\ipykernel_6552\\4251386906.py:15: FutureWarning: A value is trying to be set on a copy of a DataFrame or Series through chained assignment using an inplace method.\n",
      "The behavior will change in pandas 3.0. This inplace method will never work because the intermediate object on which we are setting values always behaves as a copy.\n",
      "\n",
      "For example, when doing 'df[col].method(value, inplace=True)', try using 'df.method({col: value}, inplace=True)' or df[col] = df[col].method(value) instead, to perform the operation inplace on the original object.\n",
      "\n",
      "\n",
      "  df['meets_criteria_for_promoting_interoperability_of_ehrs'].fillna('No', inplace=True)\n",
      "C:\\Windows\\Temp\\ipykernel_6552\\4251386906.py:15: FutureWarning: A value is trying to be set on a copy of a DataFrame or Series through chained assignment using an inplace method.\n",
      "The behavior will change in pandas 3.0. This inplace method will never work because the intermediate object on which we are setting values always behaves as a copy.\n",
      "\n",
      "For example, when doing 'df[col].method(value, inplace=True)', try using 'df.method({col: value}, inplace=True)' or df[col] = df[col].method(value) instead, to perform the operation inplace on the original object.\n",
      "\n",
      "\n",
      "  df['meets_criteria_for_promoting_interoperability_of_ehrs'].fillna('No', inplace=True)\n"
     ]
    }
   ],
   "source": [
    "print(clean_interoperability(df).head())\n",
    "cleaned_df = clean_interoperability(df)"
   ]
  },
  {
   "cell_type": "code",
   "execution_count": 21,
   "id": "0bca21f1",
   "metadata": {},
   "outputs": [],
   "source": [
    "#save the cleaned DataFrame to a new CSV file\n",
    "cleaned_df.to_csv('data/interoperability_cleaned.csv', index=False)\n"
   ]
  }
 ],
 "metadata": {
  "kernelspec": {
   "display_name": "Python 3",
   "language": "python",
   "name": "python3"
  },
  "language_info": {
   "codemirror_mode": {
    "name": "ipython",
    "version": 3
   },
   "file_extension": ".py",
   "mimetype": "text/x-python",
   "name": "python",
   "nbconvert_exporter": "python",
   "pygments_lexer": "ipython3",
   "version": "3.13.2"
  }
 },
 "nbformat": 4,
 "nbformat_minor": 5
}
