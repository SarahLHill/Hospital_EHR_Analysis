{
 "cells": [
  {
   "cell_type": "code",
   "execution_count": 1,
   "id": "a3972555",
   "metadata": {},
   "outputs": [],
   "source": [
    "import pandas as pd\n",
    "import numpy as np"
   ]
  },
  {
   "cell_type": "markdown",
   "id": "cc1535cf",
   "metadata": {},
   "source": [
    "# Import Data"
   ]
  },
  {
   "cell_type": "code",
   "execution_count": 2,
   "id": "46156913",
   "metadata": {},
   "outputs": [],
   "source": [
    "hospital_interoperability__data_df = pd.read_csv('data/hospital_interoperability_data.csv')\n",
    "\n",
    "df = hospital_interoperability__data_df"
   ]
  },
  {
   "cell_type": "markdown",
   "id": "c7508016",
   "metadata": {},
   "source": [
    "# Initial Exploration"
   ]
  },
  {
   "cell_type": "code",
   "execution_count": 3,
   "id": "7c65f10b",
   "metadata": {},
   "outputs": [
    {
     "name": "stdout",
     "output_type": "stream",
     "text": [
      "   Facility ID                    Facility Name                     Address  \\\n",
      "0        10001  SOUTHEAST HEALTH MEDICAL CENTER      1108 ROSS CLARK CIRCLE   \n",
      "1        10005         MARSHALL MEDICAL CENTERS  2505 U S HIGHWAY 431 NORTH   \n",
      "2        10006     NORTH ALABAMA MEDICAL CENTER         1701 VETERANS DRIVE   \n",
      "3        10007         MIZELL MEMORIAL HOSPITAL               702 N MAIN ST   \n",
      "4        10008      CRENSHAW COMMUNITY HOSPITAL         101 HOSPITAL CIRCLE   \n",
      "\n",
      "  City/Town State  ZIP Code County/Parish Telephone Number         CEHRT ID  \\\n",
      "0    DOTHAN    AL     36301       HOUSTON   (334) 793-8701  0015CAN28DKT47C   \n",
      "1      BOAZ    AL     35957      MARSHALL   (256) 593-8310  0015C0HAX4ESQ0D   \n",
      "2  FLORENCE    AL     35630    LAUDERDALE   (256) 768-8400  0015CW76TRC3SVN   \n",
      "3       OPP    AL     36467     COVINGTON   (334) 493-3541  0015CFG3Q10HY2V   \n",
      "4   LUVERNE    AL     36049      CRENSHAW   (334) 335-3374  0015CFG3Q10HY2V   \n",
      "\n",
      "  Meets criteria for promoting interoperability of EHRs Start Date    End Date  \n",
      "0                                                  Y      1/1/2023  12/31/2023  \n",
      "1                                                  Y      1/1/2023  12/31/2023  \n",
      "2                                                  Y      1/1/2023  12/31/2023  \n",
      "3                                                  Y      1/1/2023  12/31/2023  \n",
      "4                                                  Y      1/1/2023  12/31/2023  \n",
      "Shape of the DataFrame: (4593, 12)\n",
      "Columns in the DataFrame: ['Facility ID', 'Facility Name', 'Address', 'City/Town', 'State', 'ZIP Code', 'County/Parish', 'Telephone Number', 'CEHRT ID', 'Meets criteria for promoting interoperability of EHRs', 'Start Date', 'End Date']\n",
      "Data types of each column:\n",
      "Facility ID                                               int64\n",
      "Facility Name                                            object\n",
      "Address                                                  object\n",
      "City/Town                                                object\n",
      "State                                                    object\n",
      "ZIP Code                                                  int64\n",
      "County/Parish                                            object\n",
      "Telephone Number                                         object\n",
      "CEHRT ID                                                 object\n",
      "Meets criteria for promoting interoperability of EHRs    object\n",
      "Start Date                                               object\n",
      "End Date                                                 object\n",
      "dtype: object\n",
      "Null values in each column:\n",
      "Facility ID                                                0\n",
      "Facility Name                                              0\n",
      "Address                                                    0\n",
      "City/Town                                                  0\n",
      "State                                                      0\n",
      "ZIP Code                                                   0\n",
      "County/Parish                                              0\n",
      "Telephone Number                                           0\n",
      "CEHRT ID                                                 547\n",
      "Meets criteria for promoting interoperability of EHRs    727\n",
      "Start Date                                                 0\n",
      "End Date                                                   0\n",
      "dtype: int64\n",
      "Basic statistics of the DataFrame:\n",
      "          Facility ID      Facility Name             Address City/Town State  \\\n",
      "count     4593.000000               4593                4593      4593  4593   \n",
      "unique            NaN               4475                4567      2861    56   \n",
      "top               NaN  MEMORIAL HOSPITAL  100 HOSPITAL DRIVE   CHICAGO    TX   \n",
      "freq              NaN                 12                   6        30   389   \n",
      "mean    267573.402351                NaN                 NaN       NaN   NaN   \n",
      "std     158634.709389                NaN                 NaN       NaN   NaN   \n",
      "min      10001.000000                NaN                 NaN       NaN   NaN   \n",
      "25%     140145.000000                NaN                 NaN       NaN   NaN   \n",
      "50%     260005.000000                NaN                 NaN       NaN   NaN   \n",
      "75%     390258.000000                NaN                 NaN       NaN   NaN   \n",
      "max     671301.000000                NaN                 NaN       NaN   NaN   \n",
      "\n",
      "            ZIP Code County/Parish Telephone Number         CEHRT ID  \\\n",
      "count    4593.000000          4593             4593             4046   \n",
      "unique           NaN          1540             4571              896   \n",
      "top              NaN   LOS ANGELES   (469) 341-7800  0015CFG3Q10HY2V   \n",
      "freq             NaN            74                3              242   \n",
      "mean    54239.873939           NaN              NaN              NaN   \n",
      "std     26924.420946           NaN              NaN              NaN   \n",
      "min       603.000000           NaN              NaN              NaN   \n",
      "25%     33143.000000           NaN              NaN              NaN   \n",
      "50%     55805.000000           NaN              NaN              NaN   \n",
      "75%     76208.000000           NaN              NaN              NaN   \n",
      "max     99929.000000           NaN              NaN              NaN   \n",
      "\n",
      "       Meets criteria for promoting interoperability of EHRs Start Date  \\\n",
      "count                                                3866          4593   \n",
      "unique                                                  1             1   \n",
      "top                                                     Y      1/1/2023   \n",
      "freq                                                 3866          4593   \n",
      "mean                                                  NaN           NaN   \n",
      "std                                                   NaN           NaN   \n",
      "min                                                   NaN           NaN   \n",
      "25%                                                   NaN           NaN   \n",
      "50%                                                   NaN           NaN   \n",
      "75%                                                   NaN           NaN   \n",
      "max                                                   NaN           NaN   \n",
      "\n",
      "          End Date  \n",
      "count         4593  \n",
      "unique           1  \n",
      "top     12/31/2023  \n",
      "freq          4593  \n",
      "mean           NaN  \n",
      "std            NaN  \n",
      "min            NaN  \n",
      "25%            NaN  \n",
      "50%            NaN  \n",
      "75%            NaN  \n",
      "max            NaN  \n",
      "Facility ID                                               int64\n",
      "Facility Name                                            object\n",
      "Address                                                  object\n",
      "City/Town                                                object\n",
      "State                                                    object\n",
      "ZIP Code                                                  int64\n",
      "County/Parish                                            object\n",
      "Telephone Number                                         object\n",
      "CEHRT ID                                                 object\n",
      "Meets criteria for promoting interoperability of EHRs    object\n",
      "Start Date                                               object\n",
      "End Date                                                 object\n",
      "dtype: object\n"
     ]
    }
   ],
   "source": [
    "from utilities import exploratory_data_analysis\n",
    "exploratory_data_analysis(df)"
   ]
  },
  {
   "cell_type": "markdown",
   "id": "e43eb2d3",
   "metadata": {},
   "source": [
    "# Cleaning the data"
   ]
  },
  {
   "cell_type": "code",
   "execution_count": 4,
   "id": "2cc1ee94",
   "metadata": {},
   "outputs": [],
   "source": [
    "def clean_hospital_interoperability(df: pd.DataFrame) -> pd.DataFrame:\n",
    "    \"\"\"\n",
    "    Clean the hospital_interoperability DataFrame by removing unwanted columns and filtering out unknown races.\n",
    "\n",
    "    Args:\n",
    "        df (pd.DataFrame): The hospital_interoperability.\n",
    "\n",
    "    Returns:\n",
    "        pd.DataFrame: Cleaned hospital_interoperability data.\n",
    "    \"\"\"\n",
    "    #Standardize the column names\n",
    "    df.columns = df.columns.str.lower().str.replace(' ', '_').str.replace('-', '_')\n",
    "    #Print column names\n",
    "    print(\"Standardized column names:\", df.columns.tolist())\n",
    "\n",
    "    # Convert ZIP Code to string (object) to preserve formatting like leading zeros\n",
    "    df['zip_code'] = df['zip_code'].astype(str).str.zfill(5)\n",
    "    # print zip code column dtype\n",
    "    print(\"zip_code column dtype:\", df['zip_code'].dtype)\n",
    "\n",
    "    # Convert 'meets_criteria_for_promoting_interoperability_of_ehrs' to boolean\n",
    "    df['meets_criteria_for_promoting_interoperability_of_ehrs'] = df['meets_criteria_for_promoting_interoperability_of_ehrs'].map({'Y': True, 'N': False})\n",
    "    # Print the meets_criteria_for_promoting_interoperability column dtype\n",
    "    print(\"meets_criteria_for_promoting_interoperability_of_ehrs column dtype:\", df['meets_criteria_for_promoting_interoperability_of_ehrs'].dtype)\n",
    "\n",
    "    # Convert start_date and end_date to datetime\n",
    "    df['start_date'] = pd.to_datetime(df['start_date'], errors='coerce')\n",
    "    df['end_date'] = pd.to_datetime(df['end_date'], errors='coerce')\n",
    "    # print the start_date and end_date column dtypes\n",
    "    print(\"start_date column dtype:\", df['start_date'].dtype)\n",
    "    print(\"end_date column dtype:\", df['end_date'].dtype)\n",
    "\n",
    "    # Convert facility_id to string\n",
    "    df['facility_id'] = df['facility_id'].astype(str)\n",
    "    \n",
    "    # Print the facility_id column dtype\n",
    "    print(\"facility_id column dtype:\", df['facility_id'].dtype)\n",
    "\n",
    "    # Drop columns that are not needed\n",
    "    columns_to_drop = ['telephone_number']\n",
    "\n",
    "    # Print column names after dropping\n",
    "    df.drop(columns=columns_to_drop, inplace=True, errors='ignore')\n",
    "    print(df.columns.tolist())\n",
    "\n",
    "    return df"
   ]
  },
  {
   "cell_type": "markdown",
   "id": "69e3310e",
   "metadata": {},
   "source": [
    "# Calling in the function to clean data"
   ]
  },
  {
   "cell_type": "code",
   "execution_count": 5,
   "id": "a951f115",
   "metadata": {},
   "outputs": [
    {
     "name": "stdout",
     "output_type": "stream",
     "text": [
      "Standardized column names: ['facility_id', 'facility_name', 'address', 'city/town', 'state', 'zip_code', 'county/parish', 'telephone_number', 'cehrt_id', 'meets_criteria_for_promoting_interoperability_of_ehrs', 'start_date', 'end_date']\n",
      "zip_code column dtype: object\n",
      "meets_criteria_for_promoting_interoperability_of_ehrs column dtype: object\n",
      "start_date column dtype: datetime64[ns]\n",
      "end_date column dtype: datetime64[ns]\n",
      "facility_id column dtype: object\n",
      "['facility_id', 'facility_name', 'address', 'city/town', 'state', 'zip_code', 'county/parish', 'cehrt_id', 'meets_criteria_for_promoting_interoperability_of_ehrs', 'start_date', 'end_date']\n"
     ]
    }
   ],
   "source": [
    "hospital_interoperability_df = clean_hospital_interoperability(hospital_interoperability__data_df)"
   ]
  },
  {
   "cell_type": "code",
   "execution_count": 6,
   "id": "026a7fb8",
   "metadata": {},
   "outputs": [
    {
     "data": {
      "application/vnd.microsoft.datawrangler.viewer.v0+json": {
       "columns": [
        {
         "name": "index",
         "rawType": "int64",
         "type": "integer"
        },
        {
         "name": "facility_id",
         "rawType": "object",
         "type": "string"
        },
        {
         "name": "facility_name",
         "rawType": "object",
         "type": "string"
        },
        {
         "name": "address",
         "rawType": "object",
         "type": "string"
        },
        {
         "name": "city/town",
         "rawType": "object",
         "type": "string"
        },
        {
         "name": "state",
         "rawType": "object",
         "type": "string"
        },
        {
         "name": "zip_code",
         "rawType": "object",
         "type": "string"
        },
        {
         "name": "county/parish",
         "rawType": "object",
         "type": "string"
        },
        {
         "name": "cehrt_id",
         "rawType": "object",
         "type": "string"
        },
        {
         "name": "meets_criteria_for_promoting_interoperability_of_ehrs",
         "rawType": "object",
         "type": "unknown"
        },
        {
         "name": "start_date",
         "rawType": "datetime64[ns]",
         "type": "datetime"
        },
        {
         "name": "end_date",
         "rawType": "datetime64[ns]",
         "type": "datetime"
        }
       ],
       "ref": "82f992d2-1460-4155-b793-9f53aa2ef9a0",
       "rows": [
        [
         "0",
         "10001",
         "SOUTHEAST HEALTH MEDICAL CENTER",
         "1108 ROSS CLARK CIRCLE",
         "DOTHAN",
         "AL",
         "36301",
         "HOUSTON",
         "0015CAN28DKT47C",
         "True",
         "2023-01-01 00:00:00",
         "2023-12-31 00:00:00"
        ],
        [
         "1",
         "10005",
         "MARSHALL MEDICAL CENTERS",
         "2505 U S HIGHWAY 431 NORTH",
         "BOAZ",
         "AL",
         "35957",
         "MARSHALL",
         "0015C0HAX4ESQ0D",
         "True",
         "2023-01-01 00:00:00",
         "2023-12-31 00:00:00"
        ],
        [
         "2",
         "10006",
         "NORTH ALABAMA MEDICAL CENTER",
         "1701 VETERANS DRIVE",
         "FLORENCE",
         "AL",
         "35630",
         "LAUDERDALE",
         "0015CW76TRC3SVN",
         "True",
         "2023-01-01 00:00:00",
         "2023-12-31 00:00:00"
        ],
        [
         "3",
         "10007",
         "MIZELL MEMORIAL HOSPITAL",
         "702 N MAIN ST",
         "OPP",
         "AL",
         "36467",
         "COVINGTON",
         "0015CFG3Q10HY2V",
         "True",
         "2023-01-01 00:00:00",
         "2023-12-31 00:00:00"
        ],
        [
         "4",
         "10008",
         "CRENSHAW COMMUNITY HOSPITAL",
         "101 HOSPITAL CIRCLE",
         "LUVERNE",
         "AL",
         "36049",
         "CRENSHAW",
         "0015CFG3Q10HY2V",
         "True",
         "2023-01-01 00:00:00",
         "2023-12-31 00:00:00"
        ]
       ],
       "shape": {
        "columns": 11,
        "rows": 5
       }
      },
      "text/html": [
       "<div>\n",
       "<style scoped>\n",
       "    .dataframe tbody tr th:only-of-type {\n",
       "        vertical-align: middle;\n",
       "    }\n",
       "\n",
       "    .dataframe tbody tr th {\n",
       "        vertical-align: top;\n",
       "    }\n",
       "\n",
       "    .dataframe thead th {\n",
       "        text-align: right;\n",
       "    }\n",
       "</style>\n",
       "<table border=\"1\" class=\"dataframe\">\n",
       "  <thead>\n",
       "    <tr style=\"text-align: right;\">\n",
       "      <th></th>\n",
       "      <th>facility_id</th>\n",
       "      <th>facility_name</th>\n",
       "      <th>address</th>\n",
       "      <th>city/town</th>\n",
       "      <th>state</th>\n",
       "      <th>zip_code</th>\n",
       "      <th>county/parish</th>\n",
       "      <th>cehrt_id</th>\n",
       "      <th>meets_criteria_for_promoting_interoperability_of_ehrs</th>\n",
       "      <th>start_date</th>\n",
       "      <th>end_date</th>\n",
       "    </tr>\n",
       "  </thead>\n",
       "  <tbody>\n",
       "    <tr>\n",
       "      <th>0</th>\n",
       "      <td>10001</td>\n",
       "      <td>SOUTHEAST HEALTH MEDICAL CENTER</td>\n",
       "      <td>1108 ROSS CLARK CIRCLE</td>\n",
       "      <td>DOTHAN</td>\n",
       "      <td>AL</td>\n",
       "      <td>36301</td>\n",
       "      <td>HOUSTON</td>\n",
       "      <td>0015CAN28DKT47C</td>\n",
       "      <td>True</td>\n",
       "      <td>2023-01-01</td>\n",
       "      <td>2023-12-31</td>\n",
       "    </tr>\n",
       "    <tr>\n",
       "      <th>1</th>\n",
       "      <td>10005</td>\n",
       "      <td>MARSHALL MEDICAL CENTERS</td>\n",
       "      <td>2505 U S HIGHWAY 431 NORTH</td>\n",
       "      <td>BOAZ</td>\n",
       "      <td>AL</td>\n",
       "      <td>35957</td>\n",
       "      <td>MARSHALL</td>\n",
       "      <td>0015C0HAX4ESQ0D</td>\n",
       "      <td>True</td>\n",
       "      <td>2023-01-01</td>\n",
       "      <td>2023-12-31</td>\n",
       "    </tr>\n",
       "    <tr>\n",
       "      <th>2</th>\n",
       "      <td>10006</td>\n",
       "      <td>NORTH ALABAMA MEDICAL CENTER</td>\n",
       "      <td>1701 VETERANS DRIVE</td>\n",
       "      <td>FLORENCE</td>\n",
       "      <td>AL</td>\n",
       "      <td>35630</td>\n",
       "      <td>LAUDERDALE</td>\n",
       "      <td>0015CW76TRC3SVN</td>\n",
       "      <td>True</td>\n",
       "      <td>2023-01-01</td>\n",
       "      <td>2023-12-31</td>\n",
       "    </tr>\n",
       "    <tr>\n",
       "      <th>3</th>\n",
       "      <td>10007</td>\n",
       "      <td>MIZELL MEMORIAL HOSPITAL</td>\n",
       "      <td>702 N MAIN ST</td>\n",
       "      <td>OPP</td>\n",
       "      <td>AL</td>\n",
       "      <td>36467</td>\n",
       "      <td>COVINGTON</td>\n",
       "      <td>0015CFG3Q10HY2V</td>\n",
       "      <td>True</td>\n",
       "      <td>2023-01-01</td>\n",
       "      <td>2023-12-31</td>\n",
       "    </tr>\n",
       "    <tr>\n",
       "      <th>4</th>\n",
       "      <td>10008</td>\n",
       "      <td>CRENSHAW COMMUNITY HOSPITAL</td>\n",
       "      <td>101 HOSPITAL CIRCLE</td>\n",
       "      <td>LUVERNE</td>\n",
       "      <td>AL</td>\n",
       "      <td>36049</td>\n",
       "      <td>CRENSHAW</td>\n",
       "      <td>0015CFG3Q10HY2V</td>\n",
       "      <td>True</td>\n",
       "      <td>2023-01-01</td>\n",
       "      <td>2023-12-31</td>\n",
       "    </tr>\n",
       "  </tbody>\n",
       "</table>\n",
       "</div>"
      ],
      "text/plain": [
       "  facility_id                    facility_name                     address  \\\n",
       "0       10001  SOUTHEAST HEALTH MEDICAL CENTER      1108 ROSS CLARK CIRCLE   \n",
       "1       10005         MARSHALL MEDICAL CENTERS  2505 U S HIGHWAY 431 NORTH   \n",
       "2       10006     NORTH ALABAMA MEDICAL CENTER         1701 VETERANS DRIVE   \n",
       "3       10007         MIZELL MEMORIAL HOSPITAL               702 N MAIN ST   \n",
       "4       10008      CRENSHAW COMMUNITY HOSPITAL         101 HOSPITAL CIRCLE   \n",
       "\n",
       "  city/town state zip_code county/parish         cehrt_id  \\\n",
       "0    DOTHAN    AL    36301       HOUSTON  0015CAN28DKT47C   \n",
       "1      BOAZ    AL    35957      MARSHALL  0015C0HAX4ESQ0D   \n",
       "2  FLORENCE    AL    35630    LAUDERDALE  0015CW76TRC3SVN   \n",
       "3       OPP    AL    36467     COVINGTON  0015CFG3Q10HY2V   \n",
       "4   LUVERNE    AL    36049      CRENSHAW  0015CFG3Q10HY2V   \n",
       "\n",
       "  meets_criteria_for_promoting_interoperability_of_ehrs start_date   end_date  \n",
       "0                                               True    2023-01-01 2023-12-31  \n",
       "1                                               True    2023-01-01 2023-12-31  \n",
       "2                                               True    2023-01-01 2023-12-31  \n",
       "3                                               True    2023-01-01 2023-12-31  \n",
       "4                                               True    2023-01-01 2023-12-31  "
      ]
     },
     "execution_count": 6,
     "metadata": {},
     "output_type": "execute_result"
    }
   ],
   "source": [
    "hospital_interoperability_df.head()  "
   ]
  }
 ],
 "metadata": {
  "kernelspec": {
   "display_name": "Python 3",
   "language": "python",
   "name": "python3"
  },
  "language_info": {
   "codemirror_mode": {
    "name": "ipython",
    "version": 3
   },
   "file_extension": ".py",
   "mimetype": "text/x-python",
   "name": "python",
   "nbconvert_exporter": "python",
   "pygments_lexer": "ipython3",
   "version": "3.13.2"
  }
 },
 "nbformat": 4,
 "nbformat_minor": 5
}
